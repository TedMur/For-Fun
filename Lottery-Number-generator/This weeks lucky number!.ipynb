{
 "cells": [
  {
   "cell_type": "code",
   "execution_count": 1,
   "metadata": {},
   "outputs": [],
   "source": [
    "import random"
   ]
  },
  {
   "cell_type": "markdown",
   "metadata": {},
   "source": [
    "**Powerball How To Play**\n",
    "\n",
    "- Powerball costs two dollars per play\n",
    "- Choose five numbers from 1 to 69 for the white balls.\n",
    "- Choose one number from 1 to 26 for the red ball.\n",
    "- Jackpots start at fourty million dollars and grow from there!\n",
    "- For more info visit https://www.powerball.com"
   ]
  },
  {
   "cell_type": "code",
   "execution_count": 2,
   "metadata": {},
   "outputs": [
    {
     "name": "stdout",
     "output_type": "stream",
     "text": [
      "[3, 11, 52, 65, 68]\n",
      "[22]\n"
     ]
    }
   ],
   "source": [
    "# Random winning number generator without duplicates\n",
    "white_list = random.sample(range(1, 70), 5)\n",
    "print(sorted(white_list))\n",
    "\n",
    "red_list = random.sample(range(1, 27), 1)\n",
    "print(red_list)\n"
   ]
  },
  {
   "cell_type": "code",
   "execution_count": 43,
   "metadata": {},
   "outputs": [
    {
     "name": "stdout",
     "output_type": "stream",
     "text": [
      "[4, 11, 22, 54, 70]\n",
      "5\n"
     ]
    }
   ],
   "source": [
    "# Random winning number generator with duplicates \n",
    "won_list_P = []\n",
    "for i in range(5):\n",
    "    ran = random.randint(1, 70)\n",
    "    if ran not in won_list_P: won_list_P.append(ran)\n",
    "print(sorted(won_list_P))\n",
    "\n",
    "for x in range(1):\n",
    "    print(random.randint(1, 27))\n",
    "    "
   ]
  },
  {
   "cell_type": "code",
   "execution_count": null,
   "metadata": {},
   "outputs": [],
   "source": []
  },
  {
   "cell_type": "markdown",
   "metadata": {},
   "source": [
    "**Mega Millions How To Play**\n",
    "\n",
    "- Mega Millions costs two dollars per play\n",
    "- Choose five numbers from 1 to 70 for the white balls.\n",
    "- Choose one number from 1 to 25 for the red ball.\n",
    "- Jackpots start at fourty million dollars and grow from there!\n",
    "- For more info visit https://www.megamillions.com/How-to-Play.aspx"
   ]
  },
  {
   "cell_type": "code",
   "execution_count": 32,
   "metadata": {},
   "outputs": [
    {
     "name": "stdout",
     "output_type": "stream",
     "text": [
      "[60, 62, 53, 37, 6]\n",
      "[7]\n"
     ]
    }
   ],
   "source": [
    "# Random winning number generator without duplicates\n",
    "white_mega_millions_winning_numbers = random.sample(range(1, 71), 5)\n",
    "print(white_mega_millions_winning_numbers)\n",
    "\n",
    "gold_mega_millions_winning_number = random.sample(range(1, 26), 1)\n",
    "print(gold_mega_millions_winning_number)\n",
    "\n"
   ]
  },
  {
   "cell_type": "code",
   "execution_count": 38,
   "metadata": {},
   "outputs": [
    {
     "name": "stdout",
     "output_type": "stream",
     "text": [
      "[1, 6, 17, 30, 55]\n",
      "7\n"
     ]
    }
   ],
   "source": [
    "# Random winning number generator with duplicates \n",
    "won_list_M = []\n",
    "for i in range(5):\n",
    "    w_ran = random.randint(1, 71)\n",
    "    if ran not in won_list_M: won_list_M.append(w_ran)\n",
    "print(sorted(won_list_M))\n",
    "\n",
    "for x in range(1):\n",
    "    g_ran = random.randint(1, 26)\n",
    "print(g_ran)"
   ]
  },
  {
   "cell_type": "code",
   "execution_count": null,
   "metadata": {},
   "outputs": [],
   "source": []
  },
  {
   "cell_type": "code",
   "execution_count": null,
   "metadata": {},
   "outputs": [],
   "source": []
  },
  {
   "cell_type": "code",
   "execution_count": null,
   "metadata": {},
   "outputs": [],
   "source": []
  }
 ],
 "metadata": {
  "hide_input": false,
  "kernelspec": {
   "display_name": "Python 3",
   "language": "python",
   "name": "python3"
  },
  "language_info": {
   "codemirror_mode": {
    "name": "ipython",
    "version": 3
   },
   "file_extension": ".py",
   "mimetype": "text/x-python",
   "name": "python",
   "nbconvert_exporter": "python",
   "pygments_lexer": "ipython3",
   "version": "3.7.1"
  },
  "toc": {
   "base_numbering": 1,
   "nav_menu": {},
   "number_sections": true,
   "sideBar": true,
   "skip_h1_title": false,
   "title_cell": "Table of Contents",
   "title_sidebar": "Contents",
   "toc_cell": false,
   "toc_position": {},
   "toc_section_display": true,
   "toc_window_display": false
  },
  "varInspector": {
   "cols": {
    "lenName": 16,
    "lenType": 16,
    "lenVar": 40
   },
   "kernels_config": {
    "python": {
     "delete_cmd_postfix": "",
     "delete_cmd_prefix": "del ",
     "library": "var_list.py",
     "varRefreshCmd": "print(var_dic_list())"
    },
    "r": {
     "delete_cmd_postfix": ") ",
     "delete_cmd_prefix": "rm(",
     "library": "var_list.r",
     "varRefreshCmd": "cat(var_dic_list()) "
    }
   },
   "types_to_exclude": [
    "module",
    "function",
    "builtin_function_or_method",
    "instance",
    "_Feature"
   ],
   "window_display": false
  }
 },
 "nbformat": 4,
 "nbformat_minor": 2
}
